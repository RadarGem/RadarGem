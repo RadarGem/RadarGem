{
  "nbformat": 4,
  "nbformat_minor": 0,
  "metadata": {
    "colab": {
      "provenance": [],
      "toc_visible": true,
      "authorship_tag": "ABX9TyOl0MeiUTqIgcagWyglx32q",
      "include_colab_link": true
    },
    "kernelspec": {
      "name": "python3",
      "display_name": "Python 3"
    },
    "language_info": {
      "name": "python"
    }
  },
  "cells": [
    {
      "cell_type": "markdown",
      "metadata": {
        "id": "view-in-github",
        "colab_type": "text"
      },
      "source": [
        "<a href=\"https://colab.research.google.com/github/RadarGem/RadarGem/blob/main/NumPy_Array_and_Vectorization.ipynb\" target=\"_parent\"><img src=\"https://colab.research.google.com/assets/colab-badge.svg\" alt=\"Open In Colab\"/></a>"
      ]
    },
    {
      "cell_type": "code",
      "execution_count": null,
      "metadata": {
        "colab": {
          "base_uri": "https://localhost:8080/"
        },
        "id": "u8Qwir8I2TkD",
        "outputId": "0ce54369-b21d-4fe2-c519-369b6303a06a"
      },
      "outputs": [
        {
          "output_type": "stream",
          "name": "stdout",
          "text": [
            "<class 'list'>\n",
            "<class 'numpy.ndarray'>\n",
            "(4,)\n",
            "1\n",
            "[[1 2 3]\n",
            " [4 5 6]]\n",
            "2\n",
            "(2, 3)\n",
            "[[13. 13. 13.]\n",
            " [10. 10. 10.]]\n",
            "[[36. 40. 42.]\n",
            " [ 9. 16. 21.]]\n",
            "[[1.25       1.         0.83333333]\n",
            " [0.55555556 0.625      0.71428571]]\n",
            "[[6.56100e+03 3.27680e+04 1.17649e+05]\n",
            " [1.00000e+00 2.56000e+02 2.18700e+03]]\n"
          ]
        }
      ],
      "source": [
        "#convention for importing numpy\n",
        "import numpy as np\n",
        "\n",
        "arr = [6,7,8,9]\n",
        "print(type(arr)) #prints <class 'list'>\n",
        "a = np.array(arr)\n",
        "print (type(a))\n",
        "print(a.shape)\n",
        "print(a.ndim)\n",
        "b = np.array([[1,2,3],[4,5,6]])\n",
        "print (b)\n",
        "print(b.ndim)\n",
        "print(b.shape)\n",
        "c=np.array([[9.0,8.0,7.0],[1.0,2.0,3.0]])\n",
        "d=np.array([[4.0,5.0,6.0],[9.0,8.0,7.0]])\n",
        "print(c+d)\n",
        "print (c*d)\n",
        "print(5/d)\n",
        "print(c**d)"
      ]
    },
    {
      "cell_type": "code",
      "source": [
        "c+d\n",
        "c*d\n",
        "5/d\n",
        "c**d"
      ],
      "metadata": {
        "colab": {
          "base_uri": "https://localhost:8080/"
        },
        "id": "14HD1G26M0ys",
        "outputId": "2ab38d49-5ce1-4bce-c519-1e32b7da2a7e"
      },
      "execution_count": null,
      "outputs": [
        {
          "output_type": "execute_result",
          "data": {
            "text/plain": [
              "array([[6.56100e+03, 3.27680e+04, 1.17649e+05],\n",
              "       [1.00000e+00, 2.56000e+02, 2.18700e+03]])"
            ]
          },
          "metadata": {},
          "execution_count": 10
        }
      ]
    },
    {
      "cell_type": "code",
      "source": [
        "print(a[0])\n",
        "print([3])\n",
        "print([0,0])\n",
        "print(c[0,1])"
      ],
      "metadata": {
        "colab": {
          "base_uri": "https://localhost:8080/"
        },
        "id": "IH8OkStuLK5N",
        "outputId": "bd0e6f4a-777d-4e16-ae78-c8ee31ed5ac9"
      },
      "execution_count": null,
      "outputs": [
        {
          "output_type": "stream",
          "name": "stdout",
          "text": [
            "6\n",
            "[3]\n",
            "[0, 0]\n",
            "8.0\n"
          ]
        }
      ]
    },
    {
      "cell_type": "markdown",
      "source": [],
      "metadata": {
        "id": "9WMZbvOu-Gfa"
      }
    },
    {
      "cell_type": "code",
      "source": [
        "d[1, 0:2]"
      ],
      "metadata": {
        "colab": {
          "base_uri": "https://localhost:8080/"
        },
        "id": "PN4J6VGxMl0D",
        "outputId": "f3407495-fe1b-4dad-b302-2a14269bb8bf"
      },
      "execution_count": null,
      "outputs": [
        {
          "output_type": "execute_result",
          "data": {
            "text/plain": [
              "array([9., 8.])"
            ]
          },
          "metadata": {},
          "execution_count": 12
        }
      ]
    },
    {
      "cell_type": "code",
      "source": [
        "e=np.array([[10,11,12],[13,14,15],[16,17,18],[19,20,21]])\n",
        "print(e)\n",
        "# slicing\n",
        "print(e[:3,:2])"
      ],
      "metadata": {
        "colab": {
          "base_uri": "https://localhost:8080/"
        },
        "id": "Av7ilgAeNfev",
        "outputId": "cc707dfb-4dd9-42b2-9b20-a0d7ae9c494d"
      },
      "execution_count": null,
      "outputs": [
        {
          "output_type": "stream",
          "name": "stdout",
          "text": [
            "[[10 11 12]\n",
            " [13 14 15]\n",
            " [16 17 18]\n",
            " [19 20 21]]\n",
            "[[10 11]\n",
            " [13 14]\n",
            " [16 17]]\n"
          ]
        }
      ]
    },
    {
      "cell_type": "code",
      "source": [
        "# integer indexing\n",
        "e[[2,0,3,1],[2,1,0,2]]"
      ],
      "metadata": {
        "colab": {
          "base_uri": "https://localhost:8080/"
        },
        "id": "-Z2LNa4lP8j1",
        "outputId": "45aacc3c-ae76-4359-9a6d-ebff7bdcf598"
      },
      "execution_count": null,
      "outputs": [
        {
          "output_type": "execute_result",
          "data": {
            "text/plain": [
              "array([18, 11, 19, 15])"
            ]
          },
          "metadata": {},
          "execution_count": 14
        }
      ]
    },
    {
      "cell_type": "code",
      "source": [
        "e[e>15]"
      ],
      "metadata": {
        "colab": {
          "base_uri": "https://localhost:8080/"
        },
        "id": "JgKsJU_xQkio",
        "outputId": "67ffa6b6-fdbf-421e-f17d-07ab2a295109"
      },
      "execution_count": null,
      "outputs": [
        {
          "output_type": "execute_result",
          "data": {
            "text/plain": [
              "array([16, 17, 18, 19, 20, 21])"
            ]
          },
          "metadata": {},
          "execution_count": 15
        }
      ]
    }
  ]
}